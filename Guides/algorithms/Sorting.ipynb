{
 "cells": [
  {
   "cell_type": "markdown",
   "metadata": {},
   "source": [
    "# Sorting Algorithms"
   ]
  },
  {
   "cell_type": "markdown",
   "metadata": {},
   "source": [
    "## Quicksort\n",
    "\n",
    "Generally fastest sorting algorith. Uses a divide an conquere scheme."
   ]
  },
  {
   "cell_type": "code",
   "execution_count": 36,
   "metadata": {},
   "outputs": [],
   "source": [
    "import numpy as np\n",
    "\n",
    "arr = np.random.random(10)\n",
    "\n",
    "def quicksort(array):\n",
    "    \"\"\"Applies the quicksort algorithm in place. Pivot chosen as first value.\"\"\"\n",
    "    arr = array\n",
    "    while True:\n",
    "        pivot_idx = 0\n",
    "        pivot = arr[pivot_idx]\n",
    "        print(pivot)\n",
    "        # partitioning\n",
    "        for idx, val in enumerate(arr):\n",
    "            if val < pivot:\n",
    "                pivot_idx += 1\n",
    "                arr[idx], arr[pivot_idx] = arr[pivot_idx], arr[idx]\n",
    "        return arr\n"
   ]
  },
  {
   "cell_type": "code",
   "execution_count": 38,
   "metadata": {},
   "outputs": [
    {
     "name": "stdout",
     "output_type": "stream",
     "text": [
      "[0.47502188 0.37524231 0.11104655 0.93795942 0.3921383  0.93927878\n",
      " 0.66763096 0.39530024 0.12862945 0.89405105]\n",
      "0.47502187833353204\n",
      "[0.47502188 0.37524231 0.11104655 0.3921383  0.39530024 0.12862945\n",
      " 0.66763096 0.93795942 0.93927878 0.89405105]\n"
     ]
    }
   ],
   "source": [
    "arr = np.random.random(10)\n",
    "print(arr)\n",
    "print(quicksort(arr))"
   ]
  },
  {
   "cell_type": "code",
   "execution_count": 17,
   "metadata": {},
   "outputs": [],
   "source": [
    "def partition(array, begin, end):\n",
    "    pivot = begin\n",
    "    for i in xrange(begin+1, end+1):\n",
    "        if array[i] <= array[begin]:\n",
    "            pivot += 1\n",
    "            array[i], array[pivot] = array[pivot], array[i]\n",
    "    array[pivot], array[begin] = array[begin], array[pivot]\n",
    "    return pivot\n",
    "\n",
    "\n",
    "\n",
    "def quicksort(array, begin=0, end=None):\n",
    "    if end is None:\n",
    "        end = len(array) - 1\n",
    "    def _quicksort(array, begin, end):\n",
    "        if begin >= end:\n",
    "            return\n",
    "        pivot = partition(array, begin, end)\n",
    "        _quicksort(array, begin, pivot-1)\n",
    "        _quicksort(array, pivot+1, end)\n",
    "        print(array)\n",
    "    return _quicksort(array, begin, end)"
   ]
  },
  {
   "cell_type": "code",
   "execution_count": 18,
   "metadata": {},
   "outputs": [
    {
     "name": "stdout",
     "output_type": "stream",
     "text": [
      "[0.10024859 0.24605315 0.33621908 0.35684426 0.44282025 0.72155881\n",
      " 0.48199201 0.78971348 0.621128   0.89201148]\n",
      "[0.10024859 0.24605315 0.33621908 0.35684426 0.44282025 0.72155881\n",
      " 0.48199201 0.78971348 0.621128   0.89201148]\n",
      "[0.10024859 0.24605315 0.33621908 0.35684426 0.44282025 0.48199201\n",
      " 0.621128   0.72155881 0.78971348 0.89201148]\n",
      "[0.10024859 0.24605315 0.33621908 0.35684426 0.44282025 0.48199201\n",
      " 0.621128   0.72155881 0.78971348 0.89201148]\n",
      "[0.10024859 0.24605315 0.33621908 0.35684426 0.44282025 0.48199201\n",
      " 0.621128   0.72155881 0.78971348 0.89201148]\n",
      "[0.10024859 0.24605315 0.33621908 0.35684426 0.44282025 0.48199201\n",
      " 0.621128   0.72155881 0.78971348 0.89201148]\n",
      "[0.10024859 0.24605315 0.33621908 0.35684426 0.44282025 0.48199201\n",
      " 0.621128   0.72155881 0.78971348 0.89201148]\n",
      "None\n"
     ]
    }
   ],
   "source": [
    "arr = np.random.random(10)\n",
    "\n",
    "print(quicksort(arr))"
   ]
  },
  {
   "cell_type": "code",
   "execution_count": 14,
   "metadata": {},
   "outputs": [
    {
     "data": {
      "text/plain": [
       "array([0.06953831, 0.14353258, 0.28877596, 0.38868045, 0.40468004,\n",
       "       0.58747103, 0.67737413, 0.81100233, 0.90677719, 0.92569762])"
      ]
     },
     "execution_count": 14,
     "metadata": {},
     "output_type": "execute_result"
    }
   ],
   "source": [
    "arr"
   ]
  },
  {
   "cell_type": "code",
   "execution_count": null,
   "metadata": {},
   "outputs": [],
   "source": []
  }
 ],
 "metadata": {
  "kernelspec": {
   "display_name": "Python 3",
   "language": "python",
   "name": "python3"
  },
  "language_info": {
   "codemirror_mode": {
    "name": "ipython",
    "version": 2
   },
   "file_extension": ".py",
   "mimetype": "text/x-python",
   "name": "python",
   "nbconvert_exporter": "python",
   "pygments_lexer": "ipython2",
   "version": "2.7.15"
  }
 },
 "nbformat": 4,
 "nbformat_minor": 2
}
