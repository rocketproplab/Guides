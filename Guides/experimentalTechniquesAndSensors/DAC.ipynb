{
 "cells": [
  {
   "cell_type": "markdown",
   "metadata": {
    "collapsed": true
   },
   "source": [
    "# Digital to Analog Conversion (DAC)\n",
    "\n",
    "Also see [Analog to Digital Conversion](ADC.md)\n",
    "\n",
    "### Resolution\n",
    "An n-bit digital to analog converter with range, $b (volts)$ to $a (volts)$, the resolution is described with the following relation:\n",
    "$$ Res = \\frac{b-a}{2^N} $$\n",
    "\n",
    "On data sheets, the \"resolution\" refers to the number of bits used to perform the conversion.\n",
    "\n",
    "An example is performed below."
   ]
  },
  {
   "cell_type": "code",
   "execution_count": 1,
   "metadata": {
    "collapsed": false
   },
   "outputs": [
    {
     "name": "stdout",
     "output_type": "stream",
     "text": [
      "Resolution = 0.00030517578125 Volts/bit\n"
     ]
    }
   ],
   "source": [
    "b = +10  # +10 Volts\n",
    "a = -10  # -10 Volts\n",
    "N = 16  # 16 bit resolution\n",
    "\n",
    "Res = (b-a)/2**N\n",
    "print('Resolution =', Res, 'Volts/bit')"
   ]
  }
 ],
 "metadata": {
  "kernelspec": {
   "display_name": "Python 3",
   "language": "python",
   "name": "python3"
  },
  "language_info": {
   "codemirror_mode": {
    "name": "ipython",
    "version": 3
   },
   "file_extension": ".py",
   "mimetype": "text/x-python",
   "name": "python",
   "nbconvert_exporter": "python",
   "pygments_lexer": "ipython3",
   "version": "3.6.0"
  }
 },
 "nbformat": 4,
 "nbformat_minor": 2
}
