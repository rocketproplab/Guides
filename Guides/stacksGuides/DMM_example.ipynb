{
 "cells": [
  {
   "cell_type": "code",
   "execution_count": null,
   "metadata": {
    "collapsed": true
   },
   "outputs": [],
   "source": [
    "!pip3 install --user git+https://bitbucket.org/subinitial/subinitial.git"
   ]
  },
  {
   "cell_type": "markdown",
   "metadata": {},
   "source": [
    "Digital Multimeter Example Code\n",
    "-----------------\n",
    "\n",
    "This is an example script showcasing some of the functionality of the Digital Multimeter(DMM).\n",
    "\n",
    "Connect your device to DMM channel 0.\n",
    "\n",
    "[DMM Software Documentation](http://subinitial.com/misc/doc/subinitial.analog.html#dmm)\n"
   ]
  },
  {
   "cell_type": "code",
   "execution_count": null,
   "metadata": {
    "collapsed": true
   },
   "outputs": [],
   "source": [
    "import subinitial.stacks as stacks\n",
    "\n",
    "#connect to Stacks and analog deck\n",
    "core = stacks.Core(host=\"192.168.1.49\")\n",
    "analogdeck = stacks.AnalogDeck(core_deck=core, bus_address=2)\n",
    "\n",
    "#read voltage\n",
    "voltage = analogdeck.dmm.measure(channel=0)\n"
   ]
  }
 ],
 "metadata": {
  "kernelspec": {
   "display_name": "Python 3",
   "language": "python",
   "name": "python3"
  },
  "language_info": {
   "codemirror_mode": {
    "name": "ipython",
    "version": 3
   },
   "file_extension": ".py",
   "mimetype": "text/x-python",
   "name": "python",
   "nbconvert_exporter": "python",
   "pygments_lexer": "ipython3",
   "version": "3.6.1"
  }
 },
 "nbformat": 4,
 "nbformat_minor": 2
}
