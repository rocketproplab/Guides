{
 "cells": [
  {
   "cell_type": "markdown",
   "metadata": {},
   "source": [
    "# Timing Functions in Python\n",
    "\n",
    "<code>time</code> library [link to docs](https://docs.python.org/2/library/time.html) <br>\n",
    "<code>timeit</code> library [link to docs](https://docs.python.org/2/library/timeit.html) <br>"
   ]
  },
  {
   "cell_type": "code",
   "execution_count": 1,
   "metadata": {
    "collapsed": true
   },
   "outputs": [],
   "source": [
    "import time\n",
    "import timeit"
   ]
  },
  {
   "cell_type": "markdown",
   "metadata": {},
   "source": [
    "### UTC and local time\n",
    "\n",
    "<code>time</code> has methods which return the UTC time and local time in a somewhat useless structure format. <br>\n",
    "<code>time.gmtime()</code> returns the structure with the current gm or UTC time. <br>\n",
    "<code>time.localtime()</code> returns a structure with the current local time <br>"
   ]
  },
  {
   "cell_type": "code",
   "execution_count": 2,
   "metadata": {
    "collapsed": false
   },
   "outputs": [
    {
     "name": "stdout",
     "output_type": "stream",
     "text": [
      "time.struct_time(tm_year=2017, tm_mon=4, tm_mday=23, tm_hour=2, tm_min=4, tm_sec=19, tm_wday=6, tm_yday=113, tm_isdst=0)\n"
     ]
    }
   ],
   "source": [
    "currentTime = time.gmtime()\n",
    "print(currentTime)"
   ]
  },
  {
   "cell_type": "markdown",
   "metadata": {},
   "source": [
    "As you can see, the returned values are not very interesting or useful themselves. Lets parse structure into more useful forms. <br>\n",
    "<br>\n",
    "First, lets parse it into a __human-readable form__. This is useful for printing the time to the console, but generally would be used with a secondary form that is easier for a computer to read."
   ]
  },
  {
   "cell_type": "code",
   "execution_count": 3,
   "metadata": {
    "collapsed": false
   },
   "outputs": [
    {
     "data": {
      "text/plain": [
       "'Sun, 23 Apr 2017 02:04:19 +0000'"
      ]
     },
     "execution_count": 3,
     "metadata": {},
     "output_type": "execute_result"
    }
   ],
   "source": [
    "time.strftime(\"%a, %d %b %Y %H:%M:%S +0000\", currentTime)"
   ]
  },
  {
   "cell_type": "markdown",
   "metadata": {},
   "source": [
    "Now lets parse it into a __computer-friendly form__. To start with, we should understand what type of structure <code>currentTime</code> is."
   ]
  },
  {
   "cell_type": "code",
   "execution_count": 4,
   "metadata": {
    "collapsed": false
   },
   "outputs": [
    {
     "data": {
      "text/plain": [
       "time.struct_time"
      ]
     },
     "execution_count": 4,
     "metadata": {},
     "output_type": "execute_result"
    }
   ],
   "source": [
    "type(currentTime)"
   ]
  },
  {
   "cell_type": "markdown",
   "metadata": {},
   "source": [
    "As we can see, <code>currentTime</code> is an instance of a class, <code>struct_time</code> as is defined in the <code>time</code> library."
   ]
  },
  {
   "cell_type": "markdown",
   "metadata": {},
   "source": [
    "The string that was returned when we ran <code>print(currentTime)</code> showed us the values associated with several of the class variables. We can access these class variables by using the dot \"<code>.</code>\" notation."
   ]
  },
  {
   "cell_type": "code",
   "execution_count": 5,
   "metadata": {
    "collapsed": false
   },
   "outputs": [
    {
     "data": {
      "text/plain": [
       "2"
      ]
     },
     "execution_count": 5,
     "metadata": {},
     "output_type": "execute_result"
    }
   ],
   "source": [
    "currentTime.tm_hour"
   ]
  },
  {
   "cell_type": "markdown",
   "metadata": {},
   "source": [
    "With this knowledge, it becomes trivial to parse this data into a more usable format."
   ]
  },
  {
   "cell_type": "code",
   "execution_count": 6,
   "metadata": {
    "collapsed": false
   },
   "outputs": [],
   "source": [
    "def parseTime(timeObj):\n",
    "    '''parseTime:\n",
    "    takes time.struct_time instances\n",
    "    :return  time displayed as string -  year month day hour min sec'''\n",
    "    return (str(timeObj.tm_year) + str(timeObj.tm_mon) + str(timeObj.tm_mday) +\n",
    "            str(timeObj.tm_hour) + str(timeObj.tm_min) + str(timeObj.tm_sec))"
   ]
  },
  {
   "cell_type": "code",
   "execution_count": 7,
   "metadata": {
    "collapsed": false
   },
   "outputs": [
    {
     "data": {
      "text/plain": [
       "'20174232419'"
      ]
     },
     "execution_count": 7,
     "metadata": {},
     "output_type": "execute_result"
    }
   ],
   "source": [
    "parseTime(currentTime)"
   ]
  }
 ],
 "metadata": {
  "kernelspec": {
   "display_name": "Python 3",
   "language": "python",
   "name": "python3"
  },
  "language_info": {
   "codemirror_mode": {
    "name": "ipython",
    "version": 3
   },
   "file_extension": ".py",
   "mimetype": "text/x-python",
   "name": "python",
   "nbconvert_exporter": "python",
   "pygments_lexer": "ipython3",
   "version": "3.6.0"
  }
 },
 "nbformat": 4,
 "nbformat_minor": 2
}
