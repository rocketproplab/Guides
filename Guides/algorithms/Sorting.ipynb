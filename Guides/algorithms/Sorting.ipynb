{
 "cells": [
  {
   "cell_type": "markdown",
   "metadata": {},
   "source": [
    "# Sorting Algorithms"
   ]
  },
  {
   "cell_type": "code",
   "execution_count": 8,
   "metadata": {},
   "outputs": [],
   "source": [
    "import numpy as np"
   ]
  },
  {
   "cell_type": "markdown",
   "metadata": {},
   "source": [
    "## Quicksort\n",
    "\n",
    "Generally fastest sorting algorith. Uses a divide an conquere scheme."
   ]
  },
  {
   "cell_type": "code",
   "execution_count": 71,
   "metadata": {},
   "outputs": [],
   "source": [
    "def quicksort(arr,low,high):\n",
    "    pivot = arr[low]  # pivot on the first value in the array\n",
    "    j = low  # index of smaller element\n",
    "    for i in range(low,high):\n",
    "        if arr[i] <= pivot:\n",
    "            print('swap')\n",
    "            swap(arr,i,j)\n",
    "            j = j+1\n",
    "    if low < high:\n",
    "        quicksort(arr,low,low-1)\n",
    "        quicksort(arr,low+1,high)\n",
    "    return arr"
   ]
  },
  {
   "cell_type": "code",
   "execution_count": 70,
   "metadata": {},
   "outputs": [
    {
     "name": "stdout",
     "output_type": "stream",
     "text": [
      "swap\n",
      "swap\n",
      "swap\n",
      "swap\n",
      "swap\n",
      "swap\n",
      "swap\n",
      "swap\n",
      "swap\n",
      "swap\n",
      "swap\n",
      "swap\n",
      "swap\n",
      "swap\n",
      "swap\n",
      "[0 0 2 1 6 4 3 9 7 5]\n"
     ]
    }
   ],
   "source": [
    "arr = np.array([0, 7, 2, 4, 6, 1, 0, 9, 3, 5])\n",
    "print(quicksort(arr,0,len(arr)-1))"
   ]
  },
  {
   "cell_type": "markdown",
   "metadata": {},
   "source": [
    "## Heapsort\n",
    "\n",
    "Create a max heap with the input array and then swap the first and last element. Reduce sort space by 1 and continue until only one element is in the sort space."
   ]
  },
  {
   "cell_type": "code",
   "execution_count": null,
   "metadata": {},
   "outputs": [],
   "source": []
  },
  {
   "cell_type": "code",
   "execution_count": 23,
   "metadata": {},
   "outputs": [],
   "source": [
    "def heapify(arr, root, n):\n",
    "    largest = root\n",
    "    l = 2*root+1\n",
    "    r = 2*root+2\n",
    "    \n",
    "    if l > len(arr)-1:\n",
    "        return arr\n",
    "    \n",
    "    if l < n and arr[l] > arr[largest]:\n",
    "        largest = l\n",
    "    if r < len(arr)-1:\n",
    "        if r < n and arr[r] > arr[largest]:\n",
    "            largest = r\n",
    "    if largest != root:\n",
    "        arr[root], arr[largest] = arr[largest], arr[root]\n",
    "        heapify(arr, root, n)\n",
    "\n",
    "def swap(arr,i,j):\n",
    "    arr[i], arr[j] = arr[j], arr[i]\n",
    "\n",
    "def heapsort(arr):\n",
    "    n = len(arr)\n",
    "    while n > 1:\n",
    "        for i in range(0,n):\n",
    "            heapify(arr,i,n)\n",
    "        swap(arr,0,n-1)\n",
    "        n -= 1\n",
    "\n",
    "    return arr"
   ]
  }
 ],
 "metadata": {
  "kernelspec": {
   "display_name": "Python 3",
   "language": "python",
   "name": "python3"
  },
  "language_info": {
   "codemirror_mode": {
    "name": "ipython",
    "version": 2
   },
   "file_extension": ".py",
   "mimetype": "text/x-python",
   "name": "python",
   "nbconvert_exporter": "python",
   "pygments_lexer": "ipython2",
   "version": "2.7.15rc1"
  }
 },
 "nbformat": 4,
 "nbformat_minor": 2
}
