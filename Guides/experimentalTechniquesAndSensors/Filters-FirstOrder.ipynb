{
 "cells": [
  {
   "cell_type": "markdown",
   "metadata": {},
   "source": [
    "# First Order Filters\n",
    "\n",
    "This notebook goes through calculations of first order low- and high-pass filters.\n",
    "\n",
    "To start, lets import the libraries that will be used during this tutorial."
   ]
  },
  {
   "cell_type": "code",
   "execution_count": null,
   "metadata": {
    "collapsed": true
   },
   "outputs": [],
   "source": [
    "import numpy as np\n",
    "import plotly.plotly as py\n",
    "import plotly.graph_objs as go"
   ]
  },
  {
   "cell_type": "markdown",
   "metadata": {},
   "source": [
    "## Time Constant\n",
    "\n",
    "The time constant of an RC circuit, $\\tau$, can be describe by the following relation:\n",
    "$$ \\tau = RC $$\n",
    "\n",
    "The turnover or cutoff frequency can be determined with the time constant.\n",
    "\n",
    "$$ f_c = \\frac{1}{2 \\pi \\tau} $$"
   ]
  },
  {
   "cell_type": "code",
   "execution_count": null,
   "metadata": {
    "collapsed": false
   },
   "outputs": [
    {
     "name": "stdout",
     "output_type": "stream",
     "text": [
      "Time constant, tau = 1.0 s\n",
      "Cutoff frequency, f = 6.283185307179586 Hz\n"
     ]
    }
   ],
   "source": [
    "# inputs\n",
    "R = 1000  # resistace in ohms\n",
    "C = 0.001  # capacitance in farads\n",
    "\n",
    "tau = R*C\n",
    "fc = 2*np.pi*tau\n",
    "print('Time constant, tau =', tau, 's')\n",
    "print('Cutoff frequency, f =', fc, 'Hz')"
   ]
  },
  {
   "cell_type": "markdown",
   "metadata": {},
   "source": [
    "## Low-Pass (LP) Filter\n",
    "\n",
    "A low pass filter uses a resistor and capacitor with the voltage read across the capacitor and the input voltage into the resistor. The reactance of the capacitor blocks low frequency signals.\n",
    "\n",
    "![Low Pass Filter](assets/lpfilter.png)\n",
    "\n",
    "The response of the low pass filter is,\n",
    "\n",
    "$$ V_o = V_i \\frac{1}{\\sqrt{1+(\\omega R C)^2}} $$\n",
    "\n",
    "Where $ \\omega $ is the frequency and $RC$ is $ \\tau $."
   ]
  },
  {
   "cell_type": "code",
   "execution_count": null,
   "metadata": {
    "collapsed": false
   },
   "outputs": [],
   "source": [
    "# inputs\n",
    "Vi = 5  # volts\n",
    "\n",
    "# define a linear space of omega that is significantly greatr that fc\n",
    "omega = np.linspace(0.01*fc,fc*5,1000)\n",
    "Vo_lp = Vi*1/np.sqrt(1+(omega*tau)**2)\n",
    "\n",
    "Gdb_lp = 20*np.log10(Vo_lp/Vi)  # Where Gdb is the power \n",
    "\n",
    "# plot with plotly\n",
    "# Create traces\n",
    "legend = ['Low Pass Gain']\n",
    "tracelp = go.Scatter(\n",
    "    x=np.log10(omega),\n",
    "    y=Gdb_lp,\n",
    "    mode='lines',\n",
    "    name=legend[0]\n",
    ")\n",
    "\n",
    "# Edit the layout\n",
    "layout = dict(title='Output Voltage of First Order Low-Pass Filter vs. Time',\n",
    "              xaxis=dict(title='Log[Frequency (Hz)]'),\n",
    "              yaxis=dict(title='Power Gain (dB)'),\n",
    "              )\n",
    "data = [tracelp]  # put trace in array (plotly formatting)\n",
    "\n",
    "fig = dict(data=data, layout=layout)\n",
    "py.iplot(fig, filename=\"FirstOrderLPFilter\")"
   ]
  },
  {
   "cell_type": "markdown",
   "metadata": {},
   "source": [
    "Now, we can find the $-3 dB$ frequency with this discrete data set if we interoplate, or if we just look at the graph and find the point where the Gain in dB is $-3$."
   ]
  },
  {
   "cell_type": "code",
   "execution_count": null,
   "metadata": {
    "collapsed": false
   },
   "outputs": [],
   "source": [
    "freq3db = 0 # logarithmic frequency at -3db\n",
    "freqcut = 10**freq3db\n",
    "print('Therefore, the cutoff frequency is', freqcut, 'Hz')"
   ]
  },
  {
   "cell_type": "markdown",
   "metadata": {},
   "source": [
    "## High Pass Filter\n",
    "\n",
    "A first order high-pass filter similarly uses a resistor and capacitor, however, the output voltage is measured across the resistor.\n",
    "\n",
    "![High Pass Filter](assets/hpfilter.png)\n",
    "\n",
    "The response of the high-pass filter is,\n",
    "\n",
    "$$ V_o = V_i \\frac{\\omega R C}{\\sqrt{1+ (\\omega R C)^2}}$$"
   ]
  },
  {
   "cell_type": "code",
   "execution_count": null,
   "metadata": {
    "collapsed": false
   },
   "outputs": [],
   "source": [
    "Vo_hp = Vi*(omega*tau)/np.sqrt(1+(omega*tau)**2)\n",
    "\n",
    "Gdb_hp = 20*np.log10(Vo_hp/Vi)  # Where Gdb is the power \n",
    "\n",
    "# plot with plotly\n",
    "# Create traces\n",
    "legend = ['High Pass Gain']\n",
    "tracehp = go.Scatter(\n",
    "    x=np.log10(omega),\n",
    "    y=Gdb_hp,\n",
    "    mode='lines',\n",
    "    name=legend[0]\n",
    ")\n",
    "\n",
    "# Edit the layout\n",
    "layout = dict(title='Output Voltage of First Order High-Pass Filter vs. Time',\n",
    "              xaxis=dict(title='Log[Frequency (Hz)]'),\n",
    "              yaxis=dict(title='Power Gain (dB)'),\n",
    "              )\n",
    "data = [tracehp]  # put trace in array (plotly formatting)\n",
    "\n",
    "fig = dict(data=data, layout=layout)\n",
    "py.iplot(fig, filename=\"FirstOrderHPFilter\")"
   ]
  },
  {
   "cell_type": "markdown",
   "metadata": {},
   "source": [
    "Now, overlaying the graphs"
   ]
  },
  {
   "cell_type": "code",
   "execution_count": null,
   "metadata": {
    "collapsed": false,
    "scrolled": false
   },
   "outputs": [],
   "source": [
    "# Edit the layout\n",
    "layout = dict(title='Output Voltage of First Order High-Pass and Low-Pass Filter vs. Time',\n",
    "              xaxis=dict(title='Log[Frequency (Hz)]'),\n",
    "              yaxis=dict(title='Power Gain (dB)'),\n",
    "              )\n",
    "data = [tracehp, tracelp]  # put trace in array (plotly formatting)\n",
    "\n",
    "fig = dict(data=data, layout=layout)\n",
    "py.iplot(fig, filename=\"FirstOrderFilters\")"
   ]
  }
 ],
 "metadata": {
  "kernelspec": {
   "display_name": "Python 3",
   "language": "python",
   "name": "python3"
  },
  "language_info": {
   "codemirror_mode": {
    "name": "ipython",
    "version": 3
   },
   "file_extension": ".py",
   "mimetype": "text/x-python",
   "name": "python",
   "nbconvert_exporter": "python",
   "pygments_lexer": "ipython3",
   "version": "3.6.0"
  }
 },
 "nbformat": 4,
 "nbformat_minor": 2
}
