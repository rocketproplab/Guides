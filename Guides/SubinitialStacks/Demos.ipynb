{
 "cells": [
  {
   "cell_type": "markdown",
   "metadata": {},
   "source": [
    "# Subinitial Stacks Input Follow Demo"
   ]
  },
  {
   "cell_type": "code",
   "execution_count": 1,
   "metadata": {
    "collapsed": false
   },
   "outputs": [],
   "source": [
    "# -*- coding: UTF-8 -*-\n",
    "# Analog Deck RgbLed Example\n",
    "# © 2012-2015 Subinitial LLC. All Rights Reserved\n",
    "# Redistribution and use in source and binary forms, with or without modification, are permitted provided that the\n",
    "# following conditions are met: Redistributions of source code and binary forms must retain the above copyright notice,\n",
    "# these conditions, and the disclaimer below all in plain text. The name Subinitial may not be used to endorse or\n",
    "# promote products derived from this software without prior written consent from Subinitial LLC. This software may only\n",
    "# be redistributed and used with a Subinitial Stacks product.\n",
    "\n",
    "# This program is distributed in the hope that it will be useful, but WITHOUT ANY WARRANTY; without even the implied\n",
    "# warranty of MERCHANTABILITY or FITNESS FOR A PARTICULAR PURPOSE. Refer to the included LICENSE.txt for more details.\n",
    "import time\n",
    "import subinitial.stacks as stacks\n",
    "\n",
    "core = stacks.Core(host=\"192.168.1.49\")  # Default host IP\n",
    "analogdeck = stacks.AnalogDeck(core, bus_address=2)  # Default Analog Deck bus address"
   ]
  },
  {
   "cell_type": "code",
   "execution_count": 2,
   "metadata": {
    "collapsed": false
   },
   "outputs": [],
   "source": [
    "analogdeck.dio.set_config(dio0_3_innotout=False, dio4_7_innotout=True)  # Set 0-3 as outputs, 4-7 as inputs"
   ]
  },
  {
   "cell_type": "code",
   "execution_count": null,
   "metadata": {
    "collapsed": false
   },
   "outputs": [],
   "source": [
    "state = True\n",
    "# set DIO3 output to follow the input of DIO5\n",
    "analogdeck.dio.clear(0,1,2,3)\n",
    "while(state):\n",
    "    \n",
    "    time.sleep(2)\n",
    "    \n",
    "    analogdeck.dio.set(5)\n",
    "\n",
    "    if analogdeck.dio.get_pin_status(5):\n",
    "        analogdeck.dio.set(0,1,2,3)\n",
    "    else:\n",
    "        analogdeck.dio.clear(0,1,2,3)"
   ]
  },
  {
   "cell_type": "code",
   "execution_count": null,
   "metadata": {
    "collapsed": true
   },
   "outputs": [],
   "source": []
  }
 ],
 "metadata": {
  "kernelspec": {
   "display_name": "Python 3",
   "language": "python",
   "name": "python3"
  },
  "language_info": {
   "codemirror_mode": {
    "name": "ipython",
    "version": 3
   },
   "file_extension": ".py",
   "mimetype": "text/x-python",
   "name": "python",
   "nbconvert_exporter": "python",
   "pygments_lexer": "ipython3",
   "version": "3.6.0"
  }
 },
 "nbformat": 4,
 "nbformat_minor": 2
}
