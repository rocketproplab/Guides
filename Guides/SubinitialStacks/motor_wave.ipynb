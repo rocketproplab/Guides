{
 "cells": [
  {
   "cell_type": "markdown",
   "metadata": {},
   "source": [
    "# Subinitial Stacks Motor Waveform Input"
   ]
  },
  {
   "cell_type": "code",
   "execution_count": 17,
   "metadata": {
    "collapsed": false
   },
   "outputs": [],
   "source": [
    "import time\n",
    "import subinitial.stacks as stacks\n",
    "import numpy as np\n",
    "\n",
    "core = stacks.Core(host=\"192.168.1.49\")  # Default host IP\n",
    "analogdeck = stacks.AnalogDeck(core, bus_address=2)  # Default Analog Deck bus address"
   ]
  },
  {
   "cell_type": "code",
   "execution_count": 25,
   "metadata": {
    "collapsed": false
   },
   "outputs": [
    {
     "name": "stdout",
     "output_type": "stream",
     "text": [
      "DMM measured voltage:  0\n",
      "DMM measured voltage:  0\n",
      "DMM measured voltage:  0\n",
      "DMM measured voltage:  0\n",
      "DMM measured voltage:  0\n",
      "DMM measured voltage:  0\n",
      "DMM measured voltage:  0\n",
      "DMM measured voltage:  0\n",
      "DMM measured voltage:  0\n",
      "DMM measured voltage:  0\n",
      "DMM measured voltage:  0\n",
      "DMM measured voltage:  0\n",
      "DMM measured voltage:  0\n",
      "DMM measured voltage:  0\n",
      "DMM measured voltage:  0\n",
      "DMM measured voltage:  0\n",
      "DMM measured voltage:  0\n",
      "DMM measured voltage:  0\n",
      "DMM measured voltage:  0\n",
      "DMM measured voltage:  1\n",
      "DMM measured voltage:  2\n",
      "DMM measured voltage:  3\n",
      "DMM measured voltage:  0\n",
      "DMM measured voltage:  0\n",
      "DMM measured voltage:  0\n",
      "DMM measured voltage:  0\n",
      "DMM measured voltage:  0\n",
      "DMM measured voltage:  0\n",
      "DMM measured voltage:  0\n",
      "DMM measured voltage:  0\n",
      "DMM measured voltage:  0\n",
      "DMM measured voltage:  4\n",
      "DMM measured voltage:  3\n",
      "DMM measured voltage:  2\n"
     ]
    },
    {
     "ename": "KeyboardInterrupt",
     "evalue": "",
     "output_type": "error",
     "traceback": [
      "\u001b[0;31m---------------------------------------------------------------------------\u001b[0m",
      "\u001b[0;31mKeyboardInterrupt\u001b[0m                         Traceback (most recent call last)",
      "\u001b[0;32m<ipython-input-25-066b070a3b52>\u001b[0m in \u001b[0;36m<module>\u001b[0;34m()\u001b[0m\n\u001b[1;32m     20\u001b[0m \u001b[1;33m\u001b[0m\u001b[0m\n\u001b[1;32m     21\u001b[0m         \u001b[0manalogdeck\u001b[0m\u001b[1;33m.\u001b[0m\u001b[0mdio\u001b[0m\u001b[1;33m.\u001b[0m\u001b[0mclear\u001b[0m\u001b[1;33m(\u001b[0m\u001b[0mint\u001b[0m\u001b[1;33m(\u001b[0m\u001b[0mround\u001b[0m\u001b[1;33m(\u001b[0m\u001b[0mmeasured_voltage\u001b[0m\u001b[1;33m)\u001b[0m\u001b[1;33m)\u001b[0m\u001b[1;33m)\u001b[0m\u001b[1;33m\u001b[0m\u001b[0m\n\u001b[0;32m---> 22\u001b[0;31m         \u001b[0mtime\u001b[0m\u001b[1;33m.\u001b[0m\u001b[0msleep\u001b[0m\u001b[1;33m(\u001b[0m\u001b[1;36m0.5\u001b[0m\u001b[1;33m)\u001b[0m\u001b[1;33m\u001b[0m\u001b[0m\n\u001b[0m\u001b[1;32m     23\u001b[0m \u001b[1;33m\u001b[0m\u001b[0m\n",
      "\u001b[0;31mKeyboardInterrupt\u001b[0m: "
     ]
    }
   ],
   "source": [
    "# Set the Wavegen to apply a continuously-looping waveform instead of a DC voltage\n",
    "analogdeck.wavegen.set_control(analogdeck.wavegen.MODE_DC)\n",
    "analogdeck.dio.set_config(dio0_3_innotout=False, dio4_7_innotout=True)  # Set 0-3 as outputs, 4-7 as inputs\n",
    "\n",
    "while True:\n",
    "    for set_voltage in range(0,4):\n",
    "        analogdeck.wavegen.set_dc(volts=set_voltage)\n",
    "        \n",
    "        measured_voltage = analogdeck.dmm.measure_channel(channel=0)\n",
    "        print(\"DMM measured voltage: \", int(round(measured_voltage)))\n",
    "\n",
    "        analogdeck.dio.set(int(round(measured_voltage)))\n",
    "        time.sleep(0.5)\n",
    "        \n",
    "    for set_voltage in range(4, -1, -1):\n",
    "        analogdeck.wavegen.set_dc(volts=set_voltage)\n",
    "        \n",
    "        measured_voltage = analogdeck.dmm.measure_channel(channel=0)\n",
    "        print(\"DMM measured voltage: \", int(round(measured_voltage)))\n",
    "\n",
    "        analogdeck.dio.clear(int(round(measured_voltage)))\n",
    "        time.sleep(0.5)\n",
    "    "
   ]
  },
  {
   "cell_type": "code",
   "execution_count": 26,
   "metadata": {
    "collapsed": true
   },
   "outputs": [],
   "source": [
    "analogdeck.dio.clear(0,1,2,3)"
   ]
  },
  {
   "cell_type": "code",
   "execution_count": null,
   "metadata": {
    "collapsed": true
   },
   "outputs": [],
   "source": []
  }
 ],
 "metadata": {
  "kernelspec": {
   "display_name": "Python 3",
   "language": "python",
   "name": "python3"
  },
  "language_info": {
   "codemirror_mode": {
    "name": "ipython",
    "version": 3
   },
   "file_extension": ".py",
   "mimetype": "text/x-python",
   "name": "python",
   "nbconvert_exporter": "python",
   "pygments_lexer": "ipython3",
   "version": "3.6.0"
  }
 },
 "nbformat": 4,
 "nbformat_minor": 2
}
