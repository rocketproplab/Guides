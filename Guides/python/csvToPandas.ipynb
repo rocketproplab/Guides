{
 "cells": [
  {
   "cell_type": "markdown",
   "metadata": {},
   "source": [
    "# Import csv To Pandas\n",
    "\n",
    "This file covers the process of importing excel files into a pandas dataframe.\n",
    "\n",
    "The function used is [read_csv](http://pandas.pydata.org/pandas-docs/stable/generated/pandas.read_csv.html).\n",
    "\n",
    "### Step 1\n",
    "Lets start by importing pandas and os. We will be using pandas to create a dataframe from our data, and os to get file paths."
   ]
  },
  {
   "cell_type": "code",
   "execution_count": 1,
   "metadata": {
    "collapsed": true
   },
   "outputs": [],
   "source": [
    "import pandas as pd\n",
    "import os"
   ]
  },
  {
   "cell_type": "markdown",
   "metadata": {},
   "source": [
    "### Step 2\n",
    "Now lets create a variable, <code>filePath</code>, that is a string containing the full path to the file we want to import. The code below looks in the current working directory for the file given a file name input by the user. This isn't necessary, and is just included for convienence. Alternatively, user can input a full path into the <code>filePath</code> variable."
   ]
  },
  {
   "cell_type": "code",
   "execution_count": 5,
   "metadata": {
    "collapsed": false
   },
   "outputs": [],
   "source": [
    "cwd = os.getcwd()\n",
    "fileName = 'example.csv'\n",
    "filePath = os.path.join(cwd, fileName)"
   ]
  },
  {
   "cell_type": "markdown",
   "metadata": {},
   "source": [
    "### Step 3\n",
    "Great! Now lets read the data into a dataframe called <code>df</code>.\n",
    "This will allow our data to be accessible by the string in the header."
   ]
  },
  {
   "cell_type": "code",
   "execution_count": 7,
   "metadata": {
    "collapsed": false
   },
   "outputs": [
    {
     "name": "stdout",
     "output_type": "stream",
     "text": [
      "   Time (s) - Dev1/ai0  Amplitude - Dev1/ai0\n",
      "0                0.000                  -0.5\n",
      "1                0.002                  -0.5\n",
      "2                0.004                  -0.5\n",
      "3                0.006                  -0.5\n",
      "4                0.008                  -0.5\n"
     ]
    }
   ],
   "source": [
    "df = pd.read_csv(filePath,header=0)\n",
    "print(df)"
   ]
  },
  {
   "cell_type": "markdown",
   "metadata": {},
   "source": [
    "Our data is now accessible by a key value. The keys are the column headers in the dataframe. In this example case, those are 'Time (s) - Dev1/ai0' and  'Amplitude - Dev1/ai0'. For example, lets access the data in the first column."
   ]
  },
  {
   "cell_type": "code",
   "execution_count": 8,
   "metadata": {
    "collapsed": false
   },
   "outputs": [
    {
     "data": {
      "text/plain": [
       "0    0.000\n",
       "1    0.002\n",
       "2    0.004\n",
       "3    0.006\n",
       "4    0.008\n",
       "Name: Time (s) - Dev1/ai0, dtype: float64"
      ]
     },
     "execution_count": 8,
     "metadata": {},
     "output_type": "execute_result"
    }
   ],
   "source": [
    "df['Time (s) - Dev1/ai0']"
   ]
  },
  {
   "cell_type": "markdown",
   "metadata": {},
   "source": [
    "What would happen if we tried to access the data with an invalid key, say <code>1</code> for example? Lets try it to find out.\n",
    "\n",
    "Note: I enclose this code in a <code>try: except:</code> statement in order to prevent a huge error from being generated."
   ]
  },
  {
   "cell_type": "code",
   "execution_count": 9,
   "metadata": {
    "collapsed": false
   },
   "outputs": [
    {
     "name": "stdout",
     "output_type": "stream",
     "text": [
      "KeyError: 1 - not a valid key\n"
     ]
    }
   ],
   "source": [
    "try:\n",
    "    df[1]\n",
    "except KeyError:\n",
    "    print(\"KeyError: 1 - not a valid key\")"
   ]
  },
  {
   "cell_type": "markdown",
   "metadata": {},
   "source": [
    "So lets say you have a large dataframe with unknown columns. There is a simple way to index them without having prior knowledge of what the dataframe columns are. Namely, the <code>columns</code> method in pandas."
   ]
  },
  {
   "cell_type": "code",
   "execution_count": 10,
   "metadata": {
    "collapsed": false
   },
   "outputs": [
    {
     "name": "stdout",
     "output_type": "stream",
     "text": [
      "0    0.000\n",
      "1    0.002\n",
      "2    0.004\n",
      "3    0.006\n",
      "4    0.008\n",
      "Name: Time (s) - Dev1/ai0, dtype: float64\n",
      "0   -0.5\n",
      "1   -0.5\n",
      "2   -0.5\n",
      "3   -0.5\n",
      "4   -0.5\n",
      "Name: Amplitude - Dev1/ai0, dtype: float64\n"
     ]
    }
   ],
   "source": [
    "cols = df.columns\n",
    "for col in cols:\n",
    "    print(df[col])"
   ]
  },
  {
   "cell_type": "code",
   "execution_count": null,
   "metadata": {
    "collapsed": true
   },
   "outputs": [],
   "source": []
  }
 ],
 "metadata": {
  "kernelspec": {
   "display_name": "Python 3",
   "language": "python",
   "name": "python3"
  },
  "language_info": {
   "codemirror_mode": {
    "name": "ipython",
    "version": 3
   },
   "file_extension": ".py",
   "mimetype": "text/x-python",
   "name": "python",
   "nbconvert_exporter": "python",
   "pygments_lexer": "ipython3",
   "version": "3.6.0"
  }
 },
 "nbformat": 4,
 "nbformat_minor": 2
}
