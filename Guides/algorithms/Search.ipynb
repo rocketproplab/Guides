{
 "cells": [
  {
   "cell_type": "markdown",
   "metadata": {},
   "source": [
    "# Search Algorithms"
   ]
  },
  {
   "cell_type": "code",
   "execution_count": 1,
   "metadata": {},
   "outputs": [],
   "source": [
    "import numpy as np"
   ]
  },
  {
   "cell_type": "markdown",
   "metadata": {},
   "source": [
    "## Binary Search"
   ]
  },
  {
   "cell_type": "code",
   "execution_count": 42,
   "metadata": {},
   "outputs": [
    {
     "name": "stdout",
     "output_type": "stream",
     "text": [
      "10\n"
     ]
    }
   ],
   "source": [
    "arr = np.random.random(100)\n",
    "arr = np.sort(arr)\n",
    "\n",
    "# find 8\n",
    "\n",
    "def binary_search(array, value):\n",
    "    \"\"\"Find the value in the array using binary search.\"\"\"\n",
    "    arr = array\n",
    "    res = 0\n",
    "    while True:\n",
    "        idx = len(arr)//2\n",
    "        if value > arr[idx]:\n",
    "            arr = arr[idx:]\n",
    "            res += idx\n",
    "        elif value < arr[idx]:\n",
    "            arr = arr[:idx]\n",
    "        elif value == arr[idx]:\n",
    "            return idx + res\n",
    "\n",
    "print(binary_search(arr,arr[10]))"
   ]
  }
 ],
 "metadata": {
  "kernelspec": {
   "display_name": "Python 3",
   "language": "python",
   "name": "python3"
  },
  "language_info": {
   "codemirror_mode": {
    "name": "ipython",
    "version": 2
   },
   "file_extension": ".py",
   "mimetype": "text/x-python",
   "name": "python",
   "nbconvert_exporter": "python",
   "pygments_lexer": "ipython2",
   "version": "2.7.15"
  }
 },
 "nbformat": 4,
 "nbformat_minor": 2
}
