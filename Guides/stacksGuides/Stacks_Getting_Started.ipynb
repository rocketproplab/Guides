{
 "cells": [
  {
   "cell_type": "markdown",
   "metadata": {},
   "source": [
    "Stacks Getting Started\n",
    "============\n",
    "\n",
    "Welcome to the Subinitial Stacks Getting Started Guide!\n",
    "This document will guide you through setup of the Stacks and your first script.\n",
    "\n",
    "\n",
    "Useful Links\n",
    "-------------\n",
    "\n",
    "[Official Hardware Getting Started Guide](http://www.subinitial.com/misc/pub/SD00167_Stacks_Getting_Started_Guide.pdf)\n",
    "\n",
    "[Official Software Getting Started Guide](https://bitbucket.org/subinitial/subinitial/wiki/Getting_Started)\n",
    "\n",
    "[All Official Documentation](https://www.subinitial.com/documentation)\n",
    "\n",
    "[Subinitial Python Library Documentation](https://bitbucket.org/subinitial/subinitial/wiki/Home)\n",
    "\n",
    "Installing Python and Required Libraries\n",
    "------------------------------------------\n",
    "\n",
    "Python 3.5+ is required to use the Stacks. Install Python by following this link:\n",
    "\n",
    "[Python Download](https://www.python.org/downloads/)\n",
    "\n",
    "Install git if you haven't(it's a good idea!).\n",
    "\n",
    "[Git](http://git-scm.com/downloads)\n",
    "\n",
    "Then, install the Subinitial Python Library by running the following command in your command line:\n"
   ]
  },
  {
   "cell_type": "code",
   "execution_count": null,
   "metadata": {
    "collapsed": true
   },
   "outputs": [],
   "source": [
    "!pip3 install --user git+https://bitbucket.org/subinitial/subinitial.git"
   ]
  },
  {
   "cell_type": "markdown",
   "metadata": {},
   "source": [
    "Run the following code to make sure the library installed correctly."
   ]
  },
  {
   "cell_type": "code",
   "execution_count": 1,
   "metadata": {},
   "outputs": [
    {
     "name": "stdout",
     "output_type": "stream",
     "text": [
      "Stacks Library Major Version: 1\n"
     ]
    }
   ],
   "source": [
    "import subinitial.stacks as stacks\n",
    "print(\"Stacks Library Major Version:\", stacks.VERSION_STACKS[0])"
   ]
  },
  {
   "cell_type": "markdown",
   "metadata": {},
   "source": [
    "You should see the following output:\n",
    "    \n",
    "    Stacks Library Major Version: 1\n",
    "        \n",
    "Setting up your Stacks\n",
    "-----------------------\n",
    "\n",
    "For best results, use the Stacks with a laptop with a Wi-Fi connection.\n",
    "\n",
    "Connect an Ethernet cable from the Stacks to your computer. Verify that the second light from the top in the light bank\n",
    "is lit. \n",
    "*   If this light is not lit, verify the connection.\n",
    "\n",
    "Open your terminal or command prompt, and type the following command:"
   ]
  },
  {
   "cell_type": "code",
   "execution_count": 3,
   "metadata": {},
   "outputs": [
    {
     "name": "stdout",
     "output_type": "stream",
     "text": [
      "\n",
      "Pinging 192.168.1.49 with 32 bytes of data:\n",
      "Request timed out.\n",
      "Request timed out.\n",
      "Request timed out.\n",
      "Request timed out.\n",
      "\n",
      "Ping statistics for 192.168.1.49:\n",
      "    Packets: Sent = 4, Received = 0, Lost = 4 (100% loss),\n"
     ]
    }
   ],
   "source": [
    "!ping 192.168.1.49"
   ]
  },
  {
   "cell_type": "markdown",
   "metadata": {},
   "source": [
    "If you are able to ping it successfully, great! The Stacks is now communicating with your computer. \n",
    "*   If the ping failed, try assigning a static IP to your computer.\n",
    "*   Assign IP: 192.168.1.40 and Subnet mask: 255.255.255.0\n",
    "    +   On Windows 10, right-click on the Wi-Fi icon, and click on Open Network and Sharing Center.\n",
    "    +   Click on Change adapter settings.\n",
    "    +   Right-click on your Ethernet connection(the one with a cable), and select Properties.\n",
    "    +   Select Internet Protocol Version 4(TCP/IPv4).\n",
    "    +   Click the Properties button.\n",
    "    +   When the window pops up, click on Use the following IP address, and enter the following information:\n",
    "        -    IP: 192.168.1.40\n",
    "        -    Subnet mast: 255.255.255.0\n",
    "        \n",
    "Run the following script to verify that everything works:"
   ]
  },
  {
   "cell_type": "code",
   "execution_count": 1,
   "metadata": {},
   "outputs": [
    {
     "name": "stdout",
     "output_type": "stream",
     "text": [
      ">id\n",
      "Core (cor1 SA13729)\n",
      "v1.13.0_2017-01-22_21:40:27\n",
      "Bus Address:1\n"
     ]
    }
   ],
   "source": [
    "import subinitial.stacks1 as stacks\n",
    "core = stacks.Core(host=\"192.168.1.49\")\n",
    "core.print_console(\"id\")\n"
   ]
  },
  {
   "cell_type": "markdown",
   "metadata": {},
   "source": [
    "The output from this script should read:\n",
    "    >id\n",
    "    Core (cor1 SA13729)\n",
    "    v1.13.0_2017-01-22_21:40:27\n",
    "    Bus Address:1\n"
   ]
  }
 ],
 "metadata": {
  "kernelspec": {
   "display_name": "Python 3",
   "language": "python",
   "name": "python3"
  },
  "language_info": {
   "codemirror_mode": {
    "name": "ipython",
    "version": 3
   },
   "file_extension": ".py",
   "mimetype": "text/x-python",
   "name": "python",
   "nbconvert_exporter": "python",
   "pygments_lexer": "ipython3",
   "version": "3.6.1"
  }
 },
 "nbformat": 4,
 "nbformat_minor": 2
}
