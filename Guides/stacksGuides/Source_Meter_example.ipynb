{
 "cells": [
  {
   "cell_type": "code",
   "execution_count": 2,
   "metadata": {},
   "outputs": [
    {
     "name": "stdout",
     "output_type": "stream",
     "text": [
      "Collecting git+https://bitbucket.org/subinitial/subinitial.git\n",
      "  Cloning https://bitbucket.org/subinitial/subinitial.git to c:\\users\\patrick\\appdata\\local\\temp\\pip-03uzvla4-build\n",
      "Installing collected packages: subinitial.stacks\n",
      "  Found existing installation: subinitial.stacks 1.13.0\n",
      "    Uninstalling subinitial.stacks-1.13.0:\n",
      "      Successfully uninstalled subinitial.stacks-1.13.0\n",
      "  Running setup.py install for subinitial.stacks: started\n",
      "    Running setup.py install for subinitial.stacks: finished with status 'done'\n",
      "Successfully installed subinitial.stacks-1.14.1\n"
     ]
    }
   ],
   "source": [
    "!pip3 install --user git+https://bitbucket.org/subinitial/subinitial.git"
   ]
  },
  {
   "cell_type": "markdown",
   "metadata": {},
   "source": [
    "Source Meter Usage and Examples\n",
    "================\n",
    "\n",
    "This is an example script showcasing all the functionality of the source meter.\n",
    "\n",
    "The source meter provides a constant positive voltage.\n",
    "To use, connect the Stacks to the analog deck, then connect your device to the source meter pin(pin 1), and the ground pin \n",
    "next to it. Then, connect your computer to the Stacks via the Ethernet cable.\n",
    "\n",
    "Make sure your device can handle two volts before running this.\n",
    "\n",
    "[Source Meter Documentation](http://subinitial.com/misc/doc/subinitial.analog.html#source-meter)"
   ]
  },
  {
   "cell_type": "code",
   "execution_count": 3,
   "metadata": {
    "collapsed": true
   },
   "outputs": [],
   "source": [
    "import subinitial.stacks as stacks\n",
    "\n",
    "core = stacks.Core(host=\"192.168.1.49\")  # Default host IP\n",
    "analogdeck = stacks.AnalogDeck(core, bus_address=2)  # Default Analog Deck bus address\n",
    "\n",
    "\"\"\" BASIC USAGE \"\"\"\n",
    "\n",
    "analogdeck.sourcemeter.set_sourcevoltage(2) # Set the sourcemeter output voltage\n",
    "\n",
    "#Demo sourcemeter internal measurements\n",
    "print(\"This should show 2V: {0}\".format(analogdeck.sourcemeter.get_sourcevoltage()))\n",
    "print(\"Show the measured telemetry:\")\n",
    "print(\"Voltage (V): {0}\".format(analogdeck.sourcemeter.get_metervoltage()))\n",
    "print(\"Current (A): {0}\".format(analogdeck.sourcemeter.get_metercurrent()))\n",
    "\n",
    "print(\"Show the measured power:\")\n",
    "print(\"Power(W): {0}\".format(analogdeck.sourcemeter.get_meterpower()));"
   ]
  }
 ],
 "metadata": {
  "kernelspec": {
   "display_name": "Python 3",
   "language": "python",
   "name": "python3"
  },
  "language_info": {
   "codemirror_mode": {
    "name": "ipython",
    "version": 3
   },
   "file_extension": ".py",
   "mimetype": "text/x-python",
   "name": "python",
   "nbconvert_exporter": "python",
   "pygments_lexer": "ipython3",
   "version": "3.6.1"
  }
 },
 "nbformat": 4,
 "nbformat_minor": 2
}
