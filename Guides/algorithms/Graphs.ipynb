{
 "cells": [
  {
   "cell_type": "markdown",
   "metadata": {},
   "source": [
    "# Graphs\n",
    "\n",
    "Graphs are structures used to model objects and their relationships to other objects. They are made up of **vertecies** and **edges**. Graphs can be further classified as directed or undirected.\n",
    "\n",
    "\n",
    "**Notes:**<br>\n",
    "A graph is **directed** if there is a weight (or capacity) associated with each direction of an edge. (A->B or B->A). <br>\n",
    "Vertecies are **adjacent** if there is an edge connecting them.<br>\n",
    "A graph is called a **tree** if it contains no cycles.\n",
    "\n",
    "\n",
    "Problems will be solved with `cvxpy` where applicable."
   ]
  },
  {
   "cell_type": "code",
   "execution_count": 3,
   "metadata": {},
   "outputs": [],
   "source": [
    "import cvxpy as cp"
   ]
  },
  {
   "cell_type": "markdown",
   "metadata": {},
   "source": [
    "## Common Graph Problems\n",
    "### Min-Cut Max-Flow\n",
    "Min-cut max-flow is a common example of a graph problem. A network, defined as a graph with directed edges and verticies that conserve flow. It is significant to note that the max-flow problem is the dual of the min-cut problem.\n",
    "\n",
    "Source and terminal vertecies are defined. In the case of ma\n",
    "\n",
    "The problem can be formualted as a linear program and solved with widely available solvers."
   ]
  },
  {
   "cell_type": "code",
   "execution_count": null,
   "metadata": {},
   "outputs": [],
   "source": []
  }
 ],
 "metadata": {
  "kernelspec": {
   "display_name": "Python 3",
   "language": "python",
   "name": "python3"
  },
  "language_info": {
   "codemirror_mode": {
    "name": "ipython",
    "version": 2
   },
   "file_extension": ".py",
   "mimetype": "text/x-python",
   "name": "python",
   "nbconvert_exporter": "python",
   "pygments_lexer": "ipython2",
   "version": "2.7.15"
  }
 },
 "nbformat": 4,
 "nbformat_minor": 2
}
