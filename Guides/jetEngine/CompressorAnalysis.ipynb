{
 "cells": [
  {
   "cell_type": "markdown",
   "metadata": {},
   "source": [
    "# Axial Compressor Analysis\n",
    "\n",
    "Axial compressors are characterized by a high axial flow velocity relative to the angular velocity.\n",
    "\n",
    "__Notation__ <br>\n",
    "__c__ : absolute velocities; fixed reference frame (test bed or aircraft frame) <br>\n",
    "__w__ : relative velocities; reference frame attached to rotor <br>\n",
    "Determine flow field that will be compatible with high compresor efficiency and minimum compressor size for a given pressure ratio. If the flow field is properly designed, one can specify blading that will guide the flow accordingly\n",
    "\n",
    "### Euler Equation Solver\n",
    "Using the euler equations allows for solving fiction and shock waves."
   ]
  },
  {
   "cell_type": "code",
   "execution_count": null,
   "metadata": {
    "collapsed": true
   },
   "outputs": [],
   "source": []
  }
 ],
 "metadata": {
  "kernelspec": {
   "display_name": "Python 3",
   "language": "python",
   "name": "python3"
  },
  "language_info": {
   "codemirror_mode": {
    "name": "ipython",
    "version": 3
   },
   "file_extension": ".py",
   "mimetype": "text/x-python",
   "name": "python",
   "nbconvert_exporter": "python",
   "pygments_lexer": "ipython3",
   "version": "3.6.0"
  }
 },
 "nbformat": 4,
 "nbformat_minor": 2
}
