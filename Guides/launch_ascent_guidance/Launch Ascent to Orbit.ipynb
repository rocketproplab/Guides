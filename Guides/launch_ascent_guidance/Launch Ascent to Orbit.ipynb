{
 "cells": [
  {
   "cell_type": "markdown",
   "metadata": {},
   "source": [
    "# Launch Ascent to Orbit\n",
    "__Created By__: Cameron Flannery <br>\n",
    "__Updated:__ 12/17/2018"
   ]
  },
  {
   "cell_type": "code",
   "execution_count": 1,
   "metadata": {},
   "outputs": [],
   "source": [
    "import numpy as np\n",
    "import matplotlib.pyplot as plt"
   ]
  },
  {
   "cell_type": "markdown",
   "metadata": {},
   "source": [
    "## Introduction\n",
    "\n",
    "Launch ascent guidance, or boost-to-orbit is the phase of a mission in which a spacecraft targets a specific orbit from a launch pad or air-launch vehicle.\n",
    "\n",
    "The launch-to-orbit problem can be broken up into to two primary flight phases; endoatmospheric and exoatmospheric. Historically, endoatmospheric guidance, typically the first stage of a launch vehicle, has been open loo. A suboptimal guidance law is precomputed and uploaded to the vehicle. Second stage, or exoatmospheric flight, has typically been closed loop and is computed using nonlinear programming with a close to optimal solution. I will go into more details for each of these phases below.\n",
    "\n",
    "### Endoatmospheric Guidance\n",
    "\n",
    "There are currently no optimal endoatmospheric guidance laws (that I know of) used for launch vehicles. While in the thick parts of the atmosphere, the primary goal is to reduce aerodynamic loads to acceptable levels. For this reason, a slow gravity turn is employed with nearly zero angle of attack.\n",
    "\n",
    "> In the typical open-loop process, guidance commands are generated offline, updated with day-of-launch wind data before alunch and loaded into the launch vehicle for use during the ascent through the atmosphere. [4]\n",
    "\n",
    "### Exoatmospheric Guidance\n",
    "\n",
    "Once the vehicle is out of the atmosphere, an optimal, closed-loop guidance law can take over."
   ]
  },
  {
   "cell_type": "markdown",
   "metadata": {},
   "source": [
    "## Problem Formulation\n",
    "\n",
    "$$\\dot{r} = V$$\n",
    "$$\\dot{V} = g(r) + A/m(t) + T1_b/m(t) + N/m(t)$$\n",
    "$$\\dot{m} = -(\\eta T_{vac}/g_0 I_{sp})$$"
   ]
  },
  {
   "cell_type": "markdown",
   "metadata": {},
   "source": []
  },
  {
   "cell_type": "markdown",
   "metadata": {},
   "source": [
    "## Perturbation Methods\n",
    "\n",
    "Perturbation methods have been applied to the launch-to-orbit problem, but have been found to be inadequate for the atmospheric portion of the flight. Significant contributions include those by Feely and Speyer, using the Hamilton-Jacobi-Bellman equation to find an optimal solution."
   ]
  },
  {
   "cell_type": "markdown",
   "metadata": {},
   "source": [
    "## Bilinear-Tangent Steering Law\n",
    "\n",
    "### Conic State Extrapolation"
   ]
  },
  {
   "cell_type": "code",
   "execution_count": null,
   "metadata": {},
   "outputs": [],
   "source": []
  },
  {
   "cell_type": "markdown",
   "metadata": {},
   "source": [
    "## References\n",
    "\n",
    "1. Calise, A., Leung, Martin S. K., [Optimal Guidance Law Development for and Advanced Launch System](https://www.google.com/url?sa=t&rct=j&q=&esrc=s&source=web&cd=1&cad=rja&uact=8&ved=2ahUKEwijppv_q6vfAhUfwMQHHaKKB0EQFjAAegQIBBAC&url=https%3A%2F%2Fntrs.nasa.gov%2Farchive%2Fnasa%2Fcasi.ntrs.nasa.gov%2F19950019785.pdf&usg=AOvVaw3nKdI43o_TFQR9TaTPMbL2), NASA 1995.\n",
    "1. Bonalli, R., et al.,[Optimal Control of Endo-Atmospheric Launch Vehicle Systems: Geometric and Computational Issues](https://hal.archives-ouvertes.fr/hal-01626869/document), HAL 2017.\n",
    "1. K.H. Well., [Ariane V Ascent Trajectory Optimization with A First-Stage Splashdown Constraint](https://www.sciencedirect.com/science/article/pii/B978008037869550008X), IFAC 1989.\n",
    "1. Lu, Ping. [Closed-Loop Endoatmospheric Ascent Guidance](https://arc.aiaa.org/doi/abs/10.2514/2.5045)"
   ]
  },
  {
   "cell_type": "code",
   "execution_count": null,
   "metadata": {},
   "outputs": [],
   "source": []
  }
 ],
 "metadata": {
  "kernelspec": {
   "display_name": "Python 3",
   "language": "python",
   "name": "python3"
  },
  "language_info": {
   "codemirror_mode": {
    "name": "ipython",
    "version": 2
   },
   "file_extension": ".py",
   "mimetype": "text/x-python",
   "name": "python",
   "nbconvert_exporter": "python",
   "pygments_lexer": "ipython2",
   "version": "2.7.15rc1"
  }
 },
 "nbformat": 4,
 "nbformat_minor": 2
}
