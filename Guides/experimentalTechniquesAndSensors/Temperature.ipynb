{
 "cells": [
  {
   "cell_type": "markdown",
   "metadata": {},
   "source": [
    "# Temperature Measurements"
   ]
  },
  {
   "cell_type": "markdown",
   "metadata": {},
   "source": [
    "## Thermocouples\n",
    "\n",
    "Thermocouples are temperature measurement devices that are formed with two dissimilar metals where the junction is the measurement element. The temperature at the thermocouple junction generates a voltage as a result of the __Seebeck Effect__.\n",
    "\n",
    "In order to get higher confidence in measurements, a thermopile can be constructed where the temperature is the average of the measurements made by each of the thermocouples.\n",
    "\n",
    "<img src=\"assets\\thermopile.png\", width=700px>\n",
    "\n",
    "Measurements of voltage made with thermocouples can easily be related to temperature with the following relation:\n",
    "\n",
    "$$ \\Delta V = \\alpha (T - T_{ref}) $$\n",
    "\n",
    "Where $\\alpha$, the slope, is dependent on the type of thermocouple used, $T_ref$ is the reference temperature (generally $T_ref = 0$), and $T$ is the measured temperature."
   ]
  },
  {
   "cell_type": "code",
   "execution_count": null,
   "metadata": {
    "collapsed": true
   },
   "outputs": [],
   "source": []
  }
 ],
 "metadata": {
  "kernelspec": {
   "display_name": "Python 3",
   "language": "python",
   "name": "python3"
  },
  "language_info": {
   "codemirror_mode": {
    "name": "ipython",
    "version": 3
   },
   "file_extension": ".py",
   "mimetype": "text/x-python",
   "name": "python",
   "nbconvert_exporter": "python",
   "pygments_lexer": "ipython3",
   "version": "3.6.0"
  }
 },
 "nbformat": 4,
 "nbformat_minor": 2
}
